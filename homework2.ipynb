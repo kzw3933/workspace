{
 "cells": [
  {
   "cell_type": "markdown",
   "metadata": {},
   "source": [
    "## P20 EX.1"
   ]
  },
  {
   "cell_type": "markdown",
   "metadata": {},
   "source": [
    "当$y = x$时，点$(x,y)$ 分布在空间 $x \\in [0,1], y \\in [0,1]$ 区域中的线段$y=x$上， 长度为 $\\sqrt{2}$, 统计的点位于 $x^2 + y^2 \\le 1$区域内的线段$y=x$上， 长度为1, 故 $\\frac{4*k}{n} = 2\\sqrt{2}$ "
   ]
  },
  {
   "cell_type": "markdown",
   "metadata": {
    "vscode": {
     "languageId": "plaintext"
    }
   },
   "source": [
    "## P23 EX.2"
   ]
  },
  {
   "cell_type": "markdown",
   "metadata": {},
   "source": [
    "使用`HitorMiss`算法"
   ]
  },
  {
   "cell_type": "code",
   "execution_count": null,
   "metadata": {},
   "outputs": [],
   "source": [
    "import numpy as np\n",
    "\n",
    "\n",
    "def f(x):\n",
    "  return np.sqrt(1-x**2)\n",
    "\n",
    "def HitorMiss(f, n):\n",
    "  k = 0\n",
    "  for i in range(1, n+1):\n",
    "    x = np.random.rand()\n",
    "    y = np.random.rand()\n",
    "    if y <= f(x):\n",
    "      k += 1\n",
    "  \n",
    "  return k/n"
   ]
  },
  {
   "cell_type": "code",
   "execution_count": 3,
   "metadata": {},
   "outputs": [
    {
     "data": {
      "text/plain": [
       "[3.24, 3.052, 3.1208, 3.13596, 3.144056]"
      ]
     },
     "execution_count": 3,
     "metadata": {},
     "output_type": "execute_result"
    }
   ],
   "source": [
    "[4*HitorMiss(f, n) for n in [100, 1000, 10000, 100000, 1000000]]"
   ]
  },
  {
   "cell_type": "markdown",
   "metadata": {},
   "source": [
    "## P23 Ex.3"
   ]
  },
  {
   "cell_type": "markdown",
   "metadata": {},
   "source": [
    "使用`HitorMiss`算法"
   ]
  },
  {
   "cell_type": "code",
   "execution_count": 9,
   "metadata": {},
   "outputs": [],
   "source": [
    "import numpy as np\n",
    "\n",
    "\n",
    "def sin(x):\n",
    "  return np.sin(x)\n",
    "\n",
    "def HitorMissIntegral(f, n, a, b, c, d):\n",
    "  k = 0\n",
    "  for i in range(1, n+1):\n",
    "    x = (b-a) * np.random.rand() + a\n",
    "    y = (d-c) * np.random.rand() + c \n",
    "    if f(x) > 0 and f(x) >= y and y >=0:\n",
    "      k += 1\n",
    "    if f(x) < 0 and y >= f(x) and y < 0:\n",
    "      k -= 1\n",
    "  \n",
    "  return k/n * (b-a) * (d-c)"
   ]
  },
  {
   "cell_type": "code",
   "execution_count": 10,
   "metadata": {},
   "outputs": [
    {
     "data": {
      "text/plain": [
       "[1.000088636317733, 1.998564378967113, 0.0027231325121316327]"
      ]
     },
     "execution_count": 10,
     "metadata": {},
     "output_type": "execute_result"
    }
   ],
   "source": [
    "[HitorMissIntegral(sin, 10000000, a, b, c, d) for (a, b, c, d) in [(0, np.pi/2, 0, 1), (0, np.pi, 0, 1), (0, 2*np.pi, -1, 1)]]"
   ]
  },
  {
   "cell_type": "markdown",
   "metadata": {},
   "source": [
    "## P24 Ex.4"
   ]
  },
  {
   "cell_type": "markdown",
   "metadata": {},
   "source": [
    "算法中的每次采样符合伯努利分布, 期望为$I$,方差为$I(1-I)$, 因此由切比雪夫不等式$P(|X - \\mu| \\lt c) \\ge 1 - \\frac{\\sigma^2}{c^2}$ 以及中心极限定理, $n$次实验的均值服从均值$I$,方差为$I(1-I)/n$的正态分布可得, 当$n = \\frac{I(1-I)}{\\epsilon^2\\sigma}$时:\n",
    "\n",
    "$$ P(|h - I| \\lt \\epsilon) \\ge 1- \\frac{I(1-I)/n}{\\epsilon^2} = 1- \\sigma $$\n"
   ]
  },
  {
   "cell_type": "markdown",
   "metadata": {},
   "source": [
    "## P36 Ex.5"
   ]
  },
  {
   "cell_type": "code",
   "execution_count": 16,
   "metadata": {},
   "outputs": [],
   "source": [
    "import numpy as np\n",
    "\n",
    "def setcount(X):\n",
    "  k = 0\n",
    "  S = set()\n",
    "  a = np.random.choice(X)\n",
    "  while True:\n",
    "    k += 1\n",
    "    S.add(a)\n",
    "    a = np.random.choice(X)\n",
    "    if a in S:\n",
    "      break\n",
    "    \n",
    "  return 2*k**2/np.pi\n",
    "\n",
    "def avg_setcount(X):\n",
    "  return np.mean([setcount(X) for _ in range(1000)])\n",
    "    "
   ]
  },
  {
   "cell_type": "code",
   "execution_count": 17,
   "metadata": {},
   "outputs": [
    {
     "data": {
      "text/plain": [
       "[112.31755319926765,\n",
       " 1273.73356167852,\n",
       " 13029.346103552714,\n",
       " 120214.31472614869,\n",
       " 1250235.1008212075,\n",
       " 126909309.75612698]"
      ]
     },
     "execution_count": 17,
     "metadata": {},
     "output_type": "execute_result"
    }
   ],
   "source": [
    "[avg_setcount(np.arange(N)) for N in [100, 1000, 10000, 100000, 1000000, 100000000]]"
   ]
  },
  {
   "cell_type": "markdown",
   "metadata": {},
   "source": [
    "## P54 Ex.6"
   ]
  },
  {
   "cell_type": "markdown",
   "metadata": {},
   "source": [
    "$r$采样自$uniform(0,p-2)$, $u(x, r)$是把$g^x$映射到$g^(x+r)$, 求解实例$g^(x+r)$得到$s=x+r$, $v(r, s)$则直接转换获得原实例的解$x$, 通过转换使得算法的运行时间不依赖于具体的实例"
   ]
  },
  {
   "cell_type": "markdown",
   "metadata": {},
   "source": [
    "## P67 Ex.7"
   ]
  },
  {
   "cell_type": "code",
   "execution_count": 32,
   "metadata": {},
   "outputs": [],
   "source": [
    "val = [2, 3, 13, 1, 5, 21, 8]\n",
    "ptr = [2, 5, 6, 1, 7, 0, 3]\n",
    "head = 4\n",
    "\n",
    "def search(x, i):\n",
    "  while x > val[i-1]:\n",
    "    i = ptr[i-1]\n",
    "  return i\n",
    "\n",
    "def A(x):\n",
    "  return search(x, head)\n",
    "\n",
    "def C(x):\n",
    "  n = len(val)\n",
    "  i = np.random.randint(1, n)\n",
    "  start = head\n",
    "  for _ in range(i):\n",
    "    start = ptr[start-1]\n",
    "  y = val[i-1]\n",
    "  if x < y:\n",
    "    return search(x, head)\n",
    "  elif x > y:\n",
    "    return search(x, ptr[start-1])\n",
    "  else:\n",
    "    return i  \n",
    "\n",
    "def D(x):\n",
    "  n = len(val)\n",
    "  i = np.random.randint(1, n)\n",
    "  y = val[i-1]\n",
    "  if x < y:\n",
    "    return search(x, head)\n",
    "  elif x > y:\n",
    "    return search(x, ptr[i-1])\n",
    "  else:\n",
    "    return i  \n",
    "  \n",
    "def B(x):\n",
    "  i = head\n",
    "  max = val[i-1]\n",
    "  n = len(val)\n",
    "  for j in range(1, int(np.sqrt(n))+1):\n",
    "    y = val[j-1]\n",
    "    if max < y and y <= x:\n",
    "      i = j\n",
    "    \n",
    "  return search(x, i)"
   ]
  },
  {
   "cell_type": "code",
   "execution_count": 33,
   "metadata": {},
   "outputs": [
    {
     "data": {
      "text/plain": [
       "6"
      ]
     },
     "execution_count": 33,
     "metadata": {},
     "output_type": "execute_result"
    }
   ],
   "source": [
    "A(21)"
   ]
  },
  {
   "cell_type": "code",
   "execution_count": 34,
   "metadata": {},
   "outputs": [
    {
     "data": {
      "text/plain": [
       "6"
      ]
     },
     "execution_count": 34,
     "metadata": {},
     "output_type": "execute_result"
    }
   ],
   "source": [
    "B(21)"
   ]
  },
  {
   "cell_type": "code",
   "execution_count": 35,
   "metadata": {},
   "outputs": [
    {
     "data": {
      "text/plain": [
       "6"
      ]
     },
     "execution_count": 35,
     "metadata": {},
     "output_type": "execute_result"
    }
   ],
   "source": [
    "D(21)"
   ]
  },
  {
   "cell_type": "code",
   "execution_count": 36,
   "metadata": {},
   "outputs": [
    {
     "data": {
      "text/plain": [
       "6"
      ]
     },
     "execution_count": 36,
     "metadata": {},
     "output_type": "execute_result"
    }
   ],
   "source": [
    "C(21)"
   ]
  },
  {
   "cell_type": "markdown",
   "metadata": {},
   "source": [
    "## P77 Ex.8"
   ]
  },
  {
   "cell_type": "markdown",
   "metadata": {},
   "source": [
    "对于最后一个可以放的皇后来说，其被选中的概率为$1/nb$；往前递推，前一个被选中的概率为$1/(nb-1)$，但是其后续还有被替换掉的可能性，这个概率为$(nb-1)/nb$，因此倒数第二个成立元素最终得以保留的概率为$1/(nb-1)*(nb-1)/nb=1/nb$；反向一直推到第一个成立的元素，其被选中的概率为1，被替换掉的概率为$1/2 ∗ 2/3 ∗ ... ∗ (nb−1)/nb = 1/nb = 1/2*2/3*...*(nb-1)/nb = 1/nb$。\n",
    "因此所有的open位置的概率相等，都等于$1/nb$。"
   ]
  },
  {
   "cell_type": "markdown",
   "metadata": {},
   "source": [
    "## P83 Ex.9"
   ]
  },
  {
   "cell_type": "code",
   "execution_count": 16,
   "metadata": {},
   "outputs": [
    {
     "name": "stdout",
     "output_type": "stream",
     "text": [
      "{   12: {   1: {'times': 0.07227587699890137, 'trues': 100},\n",
      "            2: {'times': 0.043564558029174805, 'trues': 100},\n",
      "            3: {'times': 0.02252483367919922, 'trues': 100},\n",
      "            4: {'times': 0.01685190200805664, 'trues': 97},\n",
      "            5: {'times': 0.011637210845947266, 'trues': 74},\n",
      "            6: {'times': 0.008729696273803711, 'trues': 56},\n",
      "            7: {'times': 0.00771331787109375, 'trues': 36},\n",
      "            8: {'times': 0.006943464279174805, 'trues': 20},\n",
      "            9: {'times': 0.006680965423583984, 'trues': 11},\n",
      "            10: {'times': 0.006497621536254883, 'trues': 11},\n",
      "            11: {'times': 0.0063934326171875, 'trues': 11},\n",
      "            12: {'times': 0.006320476531982422, 'trues': 3}},\n",
      "    13: {   1: {'times': 0.08219313621520996, 'trues': 100},\n",
      "            2: {'times': 0.060648202896118164, 'trues': 100},\n",
      "            3: {'times': 0.03593158721923828, 'trues': 100},\n",
      "            4: {'times': 0.03049921989440918, 'trues': 98},\n",
      "            5: {'times': 0.020189285278320312, 'trues': 85},\n",
      "            6: {'times': 0.013281583786010742, 'trues': 77},\n",
      "            7: {'times': 0.009585142135620117, 'trues': 55},\n",
      "            8: {'times': 0.008733272552490234, 'trues': 31},\n",
      "            9: {'times': 0.008035898208618164, 'trues': 20},\n",
      "            10: {'times': 0.007585048675537109, 'trues': 13},\n",
      "            11: {'times': 0.0073909759521484375, 'trues': 8},\n",
      "            12: {'times': 0.007340908050537109, 'trues': 5},\n",
      "            13: {'times': 0.0073490142822265625, 'trues': 6}},\n",
      "    14: {   1: {'times': 0.3394639492034912, 'trues': 100},\n",
      "            2: {'times': 0.12991762161254883, 'trues': 100},\n",
      "            3: {'times': 0.09894084930419922, 'trues': 100},\n",
      "            4: {'times': 0.0499422550201416, 'trues': 100},\n",
      "            5: {'times': 0.02860569953918457, 'trues': 100},\n",
      "            6: {'times': 0.021207332611083984, 'trues': 81},\n",
      "            7: {'times': 0.014508485794067383, 'trues': 67},\n",
      "            8: {'times': 0.011206626892089844, 'trues': 44},\n",
      "            9: {'times': 0.009699583053588867, 'trues': 29},\n",
      "            10: {'times': 0.008985280990600586, 'trues': 18},\n",
      "            11: {'times': 0.008793115615844727, 'trues': 13},\n",
      "            12: {'times': 0.008454322814941406, 'trues': 6},\n",
      "            13: {'times': 0.008341550827026367, 'trues': 3},\n",
      "            14: {'times': 0.008242368698120117, 'trues': 2}},\n",
      "    15: {   1: {'times': 0.3518552780151367, 'trues': 100},\n",
      "            2: {'times': 0.2364184856414795, 'trues': 100},\n",
      "            3: {'times': 0.13728547096252441, 'trues': 100},\n",
      "            4: {'times': 0.10321712493896484, 'trues': 100},\n",
      "            5: {'times': 0.04872894287109375, 'trues': 99},\n",
      "            6: {'times': 0.03489947319030762, 'trues': 95},\n",
      "            7: {'times': 0.021872282028198242, 'trues': 77},\n",
      "            8: {'times': 0.016793489456176758, 'trues': 62},\n",
      "            9: {'times': 0.012836933135986328, 'trues': 35},\n",
      "            10: {'times': 0.011310815811157227, 'trues': 31},\n",
      "            11: {'times': 0.01034688949584961, 'trues': 13},\n",
      "            12: {'times': 0.009944438934326172, 'trues': 10},\n",
      "            13: {'times': 0.009619712829589844, 'trues': 5},\n",
      "            14: {'times': 0.009655952453613281, 'trues': 8},\n",
      "            15: {'times': 0.009508848190307617, 'trues': 2}},\n",
      "    16: {   1: {'times': 1.3428387641906738, 'trues': 100},\n",
      "            2: {'times': 0.6458532810211182, 'trues': 100},\n",
      "            3: {'times': 0.30672788619995117, 'trues': 100},\n",
      "            4: {'times': 0.16117572784423828, 'trues': 100},\n",
      "            5: {'times': 0.09403085708618164, 'trues': 100},\n",
      "            6: {'times': 0.05161738395690918, 'trues': 100},\n",
      "            7: {'times': 0.04145193099975586, 'trues': 88},\n",
      "            8: {'times': 0.025086164474487305, 'trues': 74},\n",
      "            9: {'times': 0.01875615119934082, 'trues': 66},\n",
      "            10: {'times': 0.014496564865112305, 'trues': 36},\n",
      "            11: {'times': 0.012744426727294922, 'trues': 29},\n",
      "            12: {'times': 0.011690855026245117, 'trues': 20},\n",
      "            13: {'times': 0.011083602905273438, 'trues': 10},\n",
      "            14: {'times': 0.010804414749145508, 'trues': 6},\n",
      "            15: {'times': 0.010732889175415039, 'trues': 5},\n",
      "            16: {'times': 0.010843276977539062, 'trues': 5}},\n",
      "    17: {   1: {'times': 1.7979793548583984, 'trues': 100},\n",
      "            2: {'times': 0.7882180213928223, 'trues': 100},\n",
      "            3: {'times': 0.43163323402404785, 'trues': 100},\n",
      "            4: {'times': 0.2914440631866455, 'trues': 100},\n",
      "            5: {'times': 0.1888582706451416, 'trues': 100},\n",
      "            6: {'times': 0.09816312789916992, 'trues': 100},\n",
      "            7: {'times': 0.06426882743835449, 'trues': 94},\n",
      "            8: {'times': 0.04407048225402832, 'trues': 88},\n",
      "            9: {'times': 0.02817845344543457, 'trues': 71},\n",
      "            10: {'times': 0.02036261558532715, 'trues': 54},\n",
      "            11: {'times': 0.016391992568969727, 'trues': 40},\n",
      "            12: {'times': 0.014003992080688477, 'trues': 26},\n",
      "            13: {'times': 0.013107776641845703, 'trues': 10},\n",
      "            14: {'times': 0.012525796890258789, 'trues': 8},\n",
      "            15: {'times': 0.0122222900390625, 'trues': 6},\n",
      "            16: {'times': 0.01222372055053711, 'trues': 9},\n",
      "            17: {'times': 0.012067317962646484, 'trues': 8}},\n",
      "    18: {   1: {'times': 5.528800010681152, 'trues': 100},\n",
      "            2: {'times': 3.387124538421631, 'trues': 100},\n",
      "            3: {'times': 1.0274603366851807, 'trues': 100},\n",
      "            4: {'times': 0.5585575103759766, 'trues': 100},\n",
      "            5: {'times': 0.313586950302124, 'trues': 100},\n",
      "            6: {'times': 0.14327359199523926, 'trues': 100},\n",
      "            7: {'times': 0.08753561973571777, 'trues': 100},\n",
      "            8: {'times': 0.062183380126953125, 'trues': 97},\n",
      "            9: {'times': 0.04304933547973633, 'trues': 90},\n",
      "            10: {'times': 0.02877068519592285, 'trues': 65},\n",
      "            11: {'times': 0.022676706314086914, 'trues': 54},\n",
      "            12: {'times': 0.01747751235961914, 'trues': 33},\n",
      "            13: {'times': 0.015517473220825195, 'trues': 20},\n",
      "            14: {'times': 0.014309167861938477, 'trues': 16},\n",
      "            15: {'times': 0.013923168182373047, 'trues': 12},\n",
      "            16: {'times': 0.013529777526855469, 'trues': 5},\n",
      "            17: {'times': 0.013396263122558594, 'trues': 6},\n",
      "            18: {'times': 0.013480186462402344, 'trues': 1}},\n",
      "    19: {   1: {'times': 3.927537202835083, 'trues': 100},\n",
      "            2: {'times': 2.324817419052124, 'trues': 100},\n",
      "            3: {'times': 1.7507143020629883, 'trues': 100},\n",
      "            4: {'times': 1.2003915309906006, 'trues': 100},\n",
      "            5: {'times': 0.41881418228149414, 'trues': 100},\n",
      "            6: {'times': 0.21337580680847168, 'trues': 100},\n",
      "            7: {'times': 0.1502830982208252, 'trues': 100},\n",
      "            8: {'times': 0.1226799488067627, 'trues': 98},\n",
      "            9: {'times': 0.06807398796081543, 'trues': 94},\n",
      "            10: {'times': 0.04410696029663086, 'trues': 84},\n",
      "            11: {'times': 0.03078627586364746, 'trues': 68},\n",
      "            12: {'times': 0.0244293212890625, 'trues': 51},\n",
      "            13: {'times': 0.019575119018554688, 'trues': 35},\n",
      "            14: {'times': 0.01688408851623535, 'trues': 14},\n",
      "            15: {'times': 0.016099214553833008, 'trues': 14},\n",
      "            16: {'times': 0.015314579010009766, 'trues': 6},\n",
      "            17: {'times': 0.014888525009155273, 'trues': 8},\n",
      "            18: {'times': 0.01479339599609375, 'trues': 1},\n",
      "            19: {'times': 0.014894247055053711, 'trues': 4}},\n",
      "    20: {   1: {'times': 31.450525045394897, 'trues': 100},\n",
      "            2: {'times': 11.502986192703247, 'trues': 100},\n",
      "            3: {'times': 4.009669542312622, 'trues': 100},\n",
      "            4: {'times': 1.9238061904907227, 'trues': 100},\n",
      "            5: {'times': 0.9612729549407959, 'trues': 100},\n",
      "            6: {'times': 0.48332929611206055, 'trues': 100},\n",
      "            7: {'times': 0.3514988422393799, 'trues': 100},\n",
      "            8: {'times': 0.1770026683807373, 'trues': 100},\n",
      "            9: {'times': 0.09865093231201172, 'trues': 96},\n",
      "            10: {'times': 0.08148765563964844, 'trues': 84},\n",
      "            11: {'times': 0.04745984077453613, 'trues': 77},\n",
      "            12: {'times': 0.03518199920654297, 'trues': 59},\n",
      "            13: {'times': 0.02626514434814453, 'trues': 36},\n",
      "            14: {'times': 0.02239680290222168, 'trues': 22},\n",
      "            15: {'times': 0.018712520599365234, 'trues': 20},\n",
      "            16: {'times': 0.01737213134765625, 'trues': 15},\n",
      "            17: {'times': 0.016841888427734375, 'trues': 11},\n",
      "            18: {'times': 0.01633906364440918, 'trues': 5},\n",
      "            19: {'times': 0.01654219627380371, 'trues': 6},\n",
      "            20: {'times': 0.016261816024780273, 'trues': 1}}}\n"
     ]
    }
   ],
   "source": [
    "import numpy as np\n",
    "import time\n",
    "import pprint\n",
    "\n",
    "def QueensLv(n, stepVegas):\n",
    "  col, diag45, diag135 = set(), set(), set()\n",
    "  board = [-1] * n\n",
    "  k = 0\n",
    "  while True:\n",
    "    nb = 0\n",
    "    for i in range(1, n+1):\n",
    "      if i not in col and i-k-1 not in diag45 and i+k+1 not in diag135:\n",
    "        nb += 1\n",
    "        if np.random.randint(1, nb+1) == 1:\n",
    "          j = i\n",
    "    if nb > 0:\n",
    "      col.add(j)\n",
    "      board[k] = j\n",
    "      k = k+1\n",
    "      diag45.add(j-k)\n",
    "      diag135.add(j+k)\n",
    "      \n",
    "    if nb == 0 or k == stepVegas:\n",
    "      break\n",
    "    \n",
    "  if nb > 0:\n",
    "    return backtrace(board, k)\n",
    "  else:\n",
    "    return False\n",
    "  \n",
    "  \n",
    "def is_queen_safe(board, row, col):\n",
    "    for i in range(row):\n",
    "        if board[i] == col:\n",
    "            return False\n",
    "        if board[i] - i == col - row:\n",
    "            return False\n",
    "        if board[i] + i == col + row:\n",
    "            return False\n",
    "    return True\n",
    "  \n",
    "def backtrace(board, k):\n",
    "  if k == len(board):\n",
    "    return True\n",
    "  for col in range(len(board)):\n",
    "    if is_queen_safe(board, k, col):\n",
    "      board[k] = col\n",
    "      if backtrace(board, k+1):\n",
    "        return True\n",
    "      board[k] = -1\n",
    "  return False\n",
    "\n",
    "\n",
    "\n",
    "def find_best_step_vegas():\n",
    "  ns = np.arange(12, 21)\n",
    "  best_step_vegas = {}\n",
    "  for n in ns:\n",
    "    best_step_vegas[n] = {}\n",
    "    for i in range(1, n+1):\n",
    "      t1 = time.time()\n",
    "      trues = 0\n",
    "      for _ in range(100):\n",
    "        if QueensLv(n, i):\n",
    "          trues += 1\n",
    "      t2 = time.time()\n",
    "      best_step_vegas[n][i] = {\n",
    "        'trues': trues,\n",
    "        'times': t2-t1\n",
    "      }  \n",
    "  pp = pprint.PrettyPrinter(indent=4)\n",
    "  pp.pprint(best_step_vegas)\n",
    "  \n",
    "find_best_step_vegas()"
   ]
  },
  {
   "cell_type": "markdown",
   "metadata": {},
   "source": [
    "## P147 Ex.10"
   ]
  },
  {
   "cell_type": "code",
   "execution_count": 14,
   "metadata": {},
   "outputs": [
    {
     "name": "stdout",
     "output_type": "stream",
     "text": [
      "Total primes: 1230 in [0, 10000], wrong count: 1\n"
     ]
    }
   ],
   "source": [
    "import numpy as np\n",
    "\n",
    "def is_prime(n):\n",
    "  for i in range(2, int(np.sqrt(n))+1):\n",
    "    if n % i == 0:\n",
    "      return False\n",
    "  return True\n",
    "\n",
    "def Btest(a, n):\n",
    "  s, t = 0, n-1\n",
    "  while t % 2 == 0:\n",
    "    s += 1\n",
    "    t //= 2\n",
    "  x = a**t % n\n",
    "  if x == 1 or x == n-1:\n",
    "    return True\n",
    "  for i in range(1, s):\n",
    "    x = x ** 2 % n\n",
    "    if x == n-1:\n",
    "      return True\n",
    "  return False\n",
    "\n",
    "def MillRab(n):\n",
    "  a = np.random.randint(2, n-1)\n",
    "  return Btest(a, n)\n",
    "\n",
    "def RepeatMillRob(n, k):\n",
    "  for i in range(k):\n",
    "    if MillRab(n) is False:\n",
    "      return False\n",
    "  return True\n",
    "\n",
    "def PrintPrimes():\n",
    "  primes = []\n",
    "  primes.append(2)\n",
    "  primes.append(3)\n",
    "  for i in range(5, 10001, 2):\n",
    "    if RepeatMillRob(i, int(np.log10(i))):\n",
    "      primes.append(i)\n",
    "  return primes\n",
    "\n",
    "primes = PrintPrimes()\n",
    "wcount = 0\n",
    "for prime in primes:\n",
    "  if not is_prime(prime):\n",
    "    wcount += 1\n",
    "print(f\"Total primes: {len(primes)} in [0, 10000], wrong count: {wcount}\")"
   ]
  }
 ],
 "metadata": {
  "kernelspec": {
   "display_name": "Python 3",
   "language": "python",
   "name": "python3"
  },
  "language_info": {
   "codemirror_mode": {
    "name": "ipython",
    "version": 3
   },
   "file_extension": ".py",
   "mimetype": "text/x-python",
   "name": "python",
   "nbconvert_exporter": "python",
   "pygments_lexer": "ipython3",
   "version": "3.12.3"
  }
 },
 "nbformat": 4,
 "nbformat_minor": 2
}
