{
 "cells": [
  {
   "cell_type": "markdown",
   "metadata": {},
   "source": [
    "## P77 Ex.8"
   ]
  },
  {
   "cell_type": "markdown",
   "metadata": {},
   "source": [
    "对于最后一个可以放的皇后来说，其被选中的概率为$1/nb$；往前递推，前一个被选中的概率为$1/(nb-1)$，但是其后续还有被替换掉的可能性，这个概率为$(nb-1)/nb$，因此倒数第二个成立元素最终得以保留的概率为$1/(nb-1)*(nb-1)/nb=1/nb$；反向一直推到第一个成立的元素，其被选中的概率为1，被替换掉的概率为$1/2 ∗ 2/3 ∗ ... ∗ (nb−1)/nb = 1/nb = 1/2*2/3*...*(nb-1)/nb = 1/nb$。\n",
    "因此所有的open位置的概率相等，都等于$1/nb$。"
   ]
  },
  {
   "cell_type": "markdown",
   "metadata": {},
   "source": [
    "## P83 Ex.9"
   ]
  },
  {
   "cell_type": "code",
   "execution_count": null,
   "metadata": {},
   "outputs": [],
   "source": [
    "import numpy as np\n",
    "\n",
    "def QueensLv(n, stepVegas):\n",
    "  col, diag45, diag135 = set(), set(), set()\n",
    "  k = 0\n",
    "  while True:\n",
    "    nb = 0\n",
    "    for i in range(1, n+1):\n",
    "      if i not in col and i-k-1 not in diag45 and i+k+1 not in diag135:\n",
    "        nb += 1\n",
    "        if np.random.randint(1, nb+1) == 1:\n",
    "          j = i\n",
    "    if nb > 0:\n",
    "      k = k+1\n",
    "      col.add(j)\n",
    "      diag45.add(j-k)\n",
    "      diag135.add(j+k)\n",
    "      \n",
    "    if nb == 0 or k == stepVegas:\n",
    "      break\n",
    "    \n",
    "  if nb > 0:\n",
    "    backtrace(k, col, diag45, diag135)\n",
    "  else:\n",
    "    return False\n",
    "  \n",
    "  \n",
    "def backtrace(n, k, col, diag45, diag135):\n",
    "  new_cols = list(set(range(1, n+1)) - col).sort()\n",
    "  stack = []\n",
    "  solution = {}\n",
    "  i = k\n",
    "\n",
    "  \n",
    "  pass"
   ]
  },
  {
   "cell_type": "markdown",
   "metadata": {},
   "source": [
    "## P147 Ex.10"
   ]
  },
  {
   "cell_type": "code",
   "execution_count": 29,
   "metadata": {},
   "outputs": [
    {
     "name": "stdout",
     "output_type": "stream",
     "text": [
      "Total primes: 1230 in [0, 10000], wrong count: 1\n"
     ]
    }
   ],
   "source": [
    "import numpy as np\n",
    "\n",
    "def is_prime(n):\n",
    "  for i in range(2, int(np.sqrt(n))+1):\n",
    "    if n % i == 0:\n",
    "      return False\n",
    "  return True\n",
    "\n",
    "def Btest(a, n):\n",
    "  s, t = 0, n-1\n",
    "  while t % 2 == 0:\n",
    "    s += 1\n",
    "    t //= 2\n",
    "  x = a**t % n\n",
    "  if x == 1 or x == n-1:\n",
    "    return True\n",
    "  for i in range(1, s):\n",
    "    x = x ** 2 % n\n",
    "    if x == n-1:\n",
    "      return True\n",
    "  return False\n",
    "\n",
    "def MillRab(n):\n",
    "  a = np.random.randint(2, n-1)\n",
    "  return Btest(a, n)\n",
    "\n",
    "def RepeatMillRob(n, k):\n",
    "  for i in range(k):\n",
    "    if MillRab(n) is False:\n",
    "      return False\n",
    "  return True\n",
    "\n",
    "def PrintPrimes():\n",
    "  primes = []\n",
    "  primes.append(2)\n",
    "  primes.append(3)\n",
    "  for i in range(5, 10001, 2):\n",
    "    if RepeatMillRob(i, int(np.log10(i))):\n",
    "      primes.append(i)\n",
    "  return primes\n",
    "\n",
    "primes = PrintPrimes()\n",
    "wcount = 0\n",
    "for prime in primes:\n",
    "  if not is_prime(prime):\n",
    "    wcount += 1\n",
    "print(f\"Total primes: {len(primes)} in [0, 10000], wrong count: {wcount}\")"
   ]
  }
 ],
 "metadata": {
  "kernelspec": {
   "display_name": "Python 3",
   "language": "python",
   "name": "python3"
  },
  "language_info": {
   "codemirror_mode": {
    "name": "ipython",
    "version": 3
   },
   "file_extension": ".py",
   "mimetype": "text/x-python",
   "name": "python",
   "nbconvert_exporter": "python",
   "pygments_lexer": "ipython3",
   "version": "3.12.7"
  }
 },
 "nbformat": 4,
 "nbformat_minor": 2
}
